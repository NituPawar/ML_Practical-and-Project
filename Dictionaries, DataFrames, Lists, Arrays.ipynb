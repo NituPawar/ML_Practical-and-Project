{
 "cells": [
  {
   "cell_type": "code",
   "execution_count": 1,
   "id": "975a03e4-b066-4d7a-a8f5-d2f0213fa108",
   "metadata": {},
   "outputs": [
    {
     "name": "stdout",
     "output_type": "stream",
     "text": [
      "{'brand': 'Ford', 'model': 'Mustang', 'year': 1964}\n"
     ]
    }
   ],
   "source": [
    "thisdict = {\n",
    "  \"brand\": \"Ford\",\n",
    "  \"model\": \"Mustang\",\n",
    "  \"year\": 1964\n",
    "}\n",
    "print(thisdict)"
   ]
  },
  {
   "cell_type": "code",
   "execution_count": 2,
   "id": "08aeeb14-50eb-48c3-ac8f-7895e17b2fd6",
   "metadata": {},
   "outputs": [
    {
     "name": "stdout",
     "output_type": "stream",
     "text": [
      "{'1': 'Mango', '2': 'Banana', '3': 'Apple', 'Year': 2025}\n"
     ]
    }
   ],
   "source": [
    "Dict1={\"1\":\"Mango\",\"2\":\"Banana\",\"3\":\"Apple\",\"Year\":2025}\n",
    "print(Dict1)"
   ]
  },
  {
   "cell_type": "code",
   "execution_count": 3,
   "id": "26aa1a26-89b7-4857-8180-0efacf8e8407",
   "metadata": {},
   "outputs": [
    {
     "name": "stdout",
     "output_type": "stream",
     "text": [
      "Mango\n"
     ]
    }
   ],
   "source": [
    "print(Dict1[\"1\"])"
   ]
  },
  {
   "cell_type": "code",
   "execution_count": 4,
   "id": "a1f299ed-5914-4eef-b3f1-0081827766f7",
   "metadata": {},
   "outputs": [
    {
     "name": "stdout",
     "output_type": "stream",
     "text": [
      "2025\n"
     ]
    }
   ],
   "source": [
    "print(Dict1[\"Year\"])"
   ]
  },
  {
   "cell_type": "code",
   "execution_count": 5,
   "id": "df5b3619-a631-4ca1-91aa-730743117636",
   "metadata": {},
   "outputs": [
    {
     "name": "stdout",
     "output_type": "stream",
     "text": [
      "4\n"
     ]
    }
   ],
   "source": [
    "print(len(Dict1))"
   ]
  },
  {
   "cell_type": "code",
   "execution_count": 7,
   "id": "f31e71f2-762d-4ca1-8481-160e32e25f76",
   "metadata": {},
   "outputs": [],
   "source": [
    "Dict2 = {\n",
    "  \"brand\": \"Ford\",\n",
    "  \"electric\": False,\n",
    "  \"year\": 1964,\n",
    "  \"colors\": [\"red\", \"white\", \"blue\"]\n",
    "}"
   ]
  },
  {
   "cell_type": "code",
   "execution_count": 8,
   "id": "4c3e3563-7f0c-43bf-ad45-0678fb49a09e",
   "metadata": {},
   "outputs": [
    {
     "name": "stdout",
     "output_type": "stream",
     "text": [
      "{'brand': 'Ford', 'electric': False, 'year': 1964, 'colors': ['red', 'white', 'blue']}\n"
     ]
    }
   ],
   "source": [
    "print(Dict2)"
   ]
  },
  {
   "cell_type": "code",
   "execution_count": 10,
   "id": "0316a06b-65b1-4ac9-9513-395f71f9ffa1",
   "metadata": {},
   "outputs": [
    {
     "name": "stdout",
     "output_type": "stream",
     "text": [
      "<class 'dict'>\n"
     ]
    }
   ],
   "source": [
    "print(type(Dict1))"
   ]
  },
  {
   "cell_type": "code",
   "execution_count": 11,
   "id": "ad4094f3-aeee-4cb2-a87a-2e1f172905fa",
   "metadata": {},
   "outputs": [
    {
     "name": "stdout",
     "output_type": "stream",
     "text": [
      "<class 'dict'>\n"
     ]
    }
   ],
   "source": [
    "print(type(Dict2))"
   ]
  },
  {
   "cell_type": "code",
   "execution_count": 12,
   "id": "fb4baff6-8e51-41e5-9f05-d6a3c79d94e2",
   "metadata": {},
   "outputs": [
    {
     "name": "stdout",
     "output_type": "stream",
     "text": [
      "{'name': 'John', 'age': 36, 'country': 'Norway'}\n"
     ]
    }
   ],
   "source": [
    "thisdict = dict(name = \"John\", age = 36, country = \"Norway\")\n",
    "print(thisdict)"
   ]
  },
  {
   "cell_type": "code",
   "execution_count": 13,
   "id": "acaa38db-63ce-41e1-a638-614695a9bc90",
   "metadata": {},
   "outputs": [
    {
     "name": "stdout",
     "output_type": "stream",
     "text": [
      "{'name': 'Raj Thakur', 'age': 21, 'country': 'India'}\n"
     ]
    }
   ],
   "source": [
    "Dict3=dict(name=\"Raj Thakur\",age=21,country=\"India\")\n",
    "print(Dict3)"
   ]
  },
  {
   "cell_type": "code",
   "execution_count": 15,
   "id": "f1def722-b15e-45b9-bb0f-c7d895cdf1c5",
   "metadata": {},
   "outputs": [
    {
     "name": "stdout",
     "output_type": "stream",
     "text": [
      "Mustang\n"
     ]
    }
   ],
   "source": [
    "thisdict = {\n",
    "  \"brand\": \"Ford\",\n",
    "  \"model\": \"Mustang\",\n",
    "  \"year\": 1964\n",
    "}\n",
    "x = thisdict[\"model\"]\n",
    "print(x)"
   ]
  },
  {
   "cell_type": "code",
   "execution_count": 16,
   "id": "64f9dfef-78ab-4734-9cf2-92785c102cd8",
   "metadata": {},
   "outputs": [],
   "source": [
    "x = thisdict.get(\"model\")"
   ]
  },
  {
   "cell_type": "code",
   "execution_count": 17,
   "id": "37fb0e32-7625-48d2-a5a3-4bbf4c2c999b",
   "metadata": {},
   "outputs": [
    {
     "name": "stdout",
     "output_type": "stream",
     "text": [
      "Mustang\n"
     ]
    }
   ],
   "source": [
    "print(x)"
   ]
  },
  {
   "cell_type": "code",
   "execution_count": 18,
   "id": "073383bf-e4ec-4502-aedf-13be4713eaeb",
   "metadata": {},
   "outputs": [
    {
     "name": "stdout",
     "output_type": "stream",
     "text": [
      "dict_keys(['brand', 'model', 'year'])\n",
      "dict_keys(['brand', 'model', 'year', 'color'])\n"
     ]
    }
   ],
   "source": [
    "car = {\n",
    "\"brand\": \"Ford\",\n",
    "\"model\": \"Mustang\",\n",
    "\"year\": 1964\n",
    "}\n",
    "x = car.keys()\n",
    "print(x)\n",
    "car[\"color\"] = \"white\"\n",
    "print(x)"
   ]
  },
  {
   "cell_type": "code",
   "execution_count": 21,
   "id": "a9bef959-545b-4f80-8f31-b8690f73905e",
   "metadata": {},
   "outputs": [
    {
     "name": "stdout",
     "output_type": "stream",
     "text": [
      "{'brand': 'Ford', 'model': 'Mustang', 'year': 2018}\n"
     ]
    }
   ],
   "source": [
    "thisdict = {\n",
    "  \"brand\": \"Ford\",\n",
    "  \"model\": \"Mustang\",\n",
    "  \"year\": 1964\n",
    "}\n",
    "thisdict[\"year\"] = 2018\n",
    "print(thisdict)"
   ]
  },
  {
   "cell_type": "code",
   "execution_count": 22,
   "id": "674249fa-502c-4e8d-9f5d-7b3a5a3a5d30",
   "metadata": {},
   "outputs": [
    {
     "name": "stdout",
     "output_type": "stream",
     "text": [
      "{'1': 'Mango', '2': 'Banana', '3': 'Apple', 'Year': 2024}\n"
     ]
    }
   ],
   "source": [
    "Dict1={\"1\":\"Mango\",\"2\":\"Banana\",\"3\":\"Apple\",\"Year\":2025}\n",
    "Dict1[\"Year\"]= 2024\n",
    "print(Dict1)"
   ]
  },
  {
   "cell_type": "code",
   "execution_count": 26,
   "id": "97b09532-abc3-45bc-b54e-8e778c36aa8d",
   "metadata": {},
   "outputs": [
    {
     "name": "stdout",
     "output_type": "stream",
     "text": [
      "{'1': 'Mango', '2': 'Banana', '3': 'Apple', 'Year': 2020}\n"
     ]
    }
   ],
   "source": [
    "Dict1={\"1\":\"Mango\",\"2\":\"Banana\",\"3\":\"Apple\",\"Year\":2025}\n",
    "Dict1.update({\"Year\":2020})\n",
    "print(Dict1)"
   ]
  },
  {
   "cell_type": "code",
   "execution_count": 27,
   "id": "8e8ae03b-3978-4a55-8059-ddb49988eb09",
   "metadata": {},
   "outputs": [
    {
     "name": "stdout",
     "output_type": "stream",
     "text": [
      "{'1': 'Mango', '2': 'Banana', '3': 'Apple', 'Year': 2025, 'Car': 'Rolls Royce'}\n"
     ]
    }
   ],
   "source": [
    "Dict1={\"1\":\"Mango\",\"2\":\"Banana\",\"3\":\"Apple\",\"Year\":2025}\n",
    "Dict1[\"Car\"]=\"Rolls Royce\"\n",
    "print(Dict1)"
   ]
  },
  {
   "cell_type": "code",
   "execution_count": 28,
   "id": "c0a4dcbb-6cc4-425e-a5b4-049130b6edaf",
   "metadata": {},
   "outputs": [
    {
     "name": "stdout",
     "output_type": "stream",
     "text": [
      "{'1': 'Mango', '2': 'Banana', '3': 'Apple', 'Year': 2025, 'Name': 'Raj Thakur'}\n"
     ]
    }
   ],
   "source": [
    "Dict1={\"1\":\"Mango\",\"2\":\"Banana\",\"3\":\"Apple\",\"Year\":2025}\n",
    "Dict1[\"Name\"]=\"Raj Thakur\"\n",
    "print(Dict1)"
   ]
  },
  {
   "cell_type": "code",
   "execution_count": 29,
   "id": "75ed60bd-178d-4708-9eab-6aec56a1958f",
   "metadata": {},
   "outputs": [
    {
     "name": "stdout",
     "output_type": "stream",
     "text": [
      "{'1': 'Mango', '2': 'Banana', '3': 'Apple', 'Year': 2025, 'Car': 'Rolls Royce', 'Name': 'Raj Thakur'}\n"
     ]
    }
   ],
   "source": [
    "Dict1={\"1\":\"Mango\",\"2\":\"Banana\",\"3\":\"Apple\",\"Year\":2025}\n",
    "Dict1[\"Car\"]=\"Rolls Royce\"\n",
    "Dict1[\"Name\"]=\"Raj Thakur\"\n",
    "print(Dict1)"
   ]
  },
  {
   "cell_type": "code",
   "execution_count": 30,
   "id": "70d12d27-a26e-4101-b1b7-5d1b5b62e86e",
   "metadata": {},
   "outputs": [
    {
     "name": "stdout",
     "output_type": "stream",
     "text": [
      "{'brand': 'Ford', 'year': 1964}\n"
     ]
    }
   ],
   "source": [
    "thisdict = {\n",
    "  \"brand\": \"Ford\",\n",
    "  \"model\": \"Mustang\",\n",
    "  \"year\": 1964\n",
    "}\n",
    "thisdict.pop(\"model\")\n",
    "print(thisdict)"
   ]
  },
  {
   "cell_type": "code",
   "execution_count": 31,
   "id": "5d9f7d56-9b8e-44dd-9e89-9fb1c109fa47",
   "metadata": {},
   "outputs": [
    {
     "name": "stdout",
     "output_type": "stream",
     "text": [
      "Ford\n",
      "1964\n"
     ]
    }
   ],
   "source": [
    "for x in thisdict:\n",
    "  print(thisdict[x])"
   ]
  },
  {
   "cell_type": "code",
   "execution_count": 32,
   "id": "3e6268ac-db98-4a01-8fd6-58c728da906f",
   "metadata": {},
   "outputs": [
    {
     "name": "stdout",
     "output_type": "stream",
     "text": [
      "Ford\n",
      "False\n",
      "1964\n",
      "['red', 'white', 'blue']\n"
     ]
    }
   ],
   "source": [
    "for i in Dict2:\n",
    "  print(Dict2[i])"
   ]
  },
  {
   "cell_type": "code",
   "execution_count": 33,
   "id": "d2541f35-458b-4e1f-96f0-02f78e0b3e02",
   "metadata": {},
   "outputs": [
    {
     "name": "stdout",
     "output_type": "stream",
     "text": [
      "Mango\n",
      "Banana\n",
      "Apple\n",
      "2025\n",
      "Rolls Royce\n",
      "Raj Thakur\n"
     ]
    }
   ],
   "source": [
    "for i in Dict1:\n",
    "  print(Dict1[i])"
   ]
  },
  {
   "cell_type": "code",
   "execution_count": 34,
   "id": "09f680cb-ed21-4be9-8ed8-8e8a9a14ce7b",
   "metadata": {},
   "outputs": [
    {
     "name": "stdout",
     "output_type": "stream",
     "text": [
      "Raj Thakur\n",
      "21\n",
      "India\n"
     ]
    }
   ],
   "source": [
    "for i in Dict3:\n",
    "  print(Dict3[i])"
   ]
  },
  {
   "cell_type": "code",
   "execution_count": 35,
   "id": "ecb2d859-db50-4439-86d8-dede64598112",
   "metadata": {},
   "outputs": [
    {
     "name": "stdout",
     "output_type": "stream",
     "text": [
      "{'brand': 'Ford', 'model': 'Mustang', 'year': 1964}\n"
     ]
    }
   ],
   "source": [
    "thisdict = {\n",
    "  \"brand\": \"Ford\",\n",
    "  \"model\": \"Mustang\",\n",
    "  \"year\": 1964\n",
    "}\n",
    "mydict = thisdict.copy()\n",
    "print(mydict)"
   ]
  },
  {
   "cell_type": "code",
   "execution_count": 36,
   "id": "727e3397-af9b-40ae-97cd-6e91e4385e63",
   "metadata": {},
   "outputs": [
    {
     "name": "stdout",
     "output_type": "stream",
     "text": [
      "{'child1': {'name': 'Emil', 'year': 2004}, 'child2': {'name': 'Tobias', 'year': 2007}, 'child3': {'name': 'Linus', 'year': 2011}}\n"
     ]
    }
   ],
   "source": [
    "myfamily = {\n",
    "  \"child1\" : {\n",
    "    \"name\" : \"Emil\",\n",
    "    \"year\" : 2004\n",
    "  },\n",
    "  \"child2\" : {\n",
    "    \"name\" : \"Tobias\",\n",
    "    \"year\" : 2007\n",
    "  },\n",
    "  \"child3\" : {\n",
    "    \"name\" : \"Linus\",\n",
    "    \"year\" : 2011\n",
    "  }\n",
    "}\n",
    "\n",
    "print(myfamily)"
   ]
  },
  {
   "cell_type": "code",
   "execution_count": 37,
   "id": "5f08501b-ae2a-48b1-b87d-703b838ea685",
   "metadata": {},
   "outputs": [
    {
     "name": "stdout",
     "output_type": "stream",
     "text": [
      "{'Car1': {'Name': 'Rolls Royce', 'Year': '1965'}, 'Car2': {'Name': 'Buggati', 'Year': '1967'}, 'Car3': {'Name': 'Bentley', 'Year': '1970'}}\n"
     ]
    }
   ],
   "source": [
    "MyCollections_Car={\n",
    "    \"Car1\":{\"Name\":\"Rolls Royce\",\"Year\":\"1965\"},\n",
    "    \"Car2\":{\"Name\":\"Buggati\",\"Year\":\"1967\"},\n",
    "    \"Car3\":{\"Name\":\"Bentley\",\"Year\":\"1970\"},\n",
    "}\n",
    "print(MyCollections_Car)"
   ]
  },
  {
   "cell_type": "code",
   "execution_count": 38,
   "id": "e59b0e55-7d37-49d2-871a-7bb85a4b7397",
   "metadata": {},
   "outputs": [
    {
     "name": "stdout",
     "output_type": "stream",
     "text": [
      "   calories  duration\n",
      "0       420        50\n",
      "1       380        40\n",
      "2       390        45\n"
     ]
    }
   ],
   "source": [
    "# Dataframes\n",
    "\n",
    "import pandas as pd\n",
    "\n",
    "data = {\n",
    "  \"calories\": [420, 380, 390],\n",
    "  \"duration\": [50, 40, 45]\n",
    "}\n",
    "\n",
    "df = pd.DataFrame(data)\n",
    "print(df) "
   ]
  },
  {
   "cell_type": "code",
   "execution_count": 42,
   "id": "28f69457-f59e-409f-98cc-4662fcf05d2a",
   "metadata": {},
   "outputs": [
    {
     "name": "stdout",
     "output_type": "stream",
     "text": [
      "        Name         Hobby\n",
      "0  RajThakur     Paintings\n",
      "1    Rajveer  readingBooks\n",
      "2        Ram       Hunting\n"
     ]
    }
   ],
   "source": [
    "import pandas as pd\n",
    "Data1={\"Name\":[\"RajThakur\",\"Rajveer\",\"Ram\"],\n",
    "       \"Hobby\":[\"Paintings\",\"readingBooks\",\"Hunting\"]}\n",
    "df=pd.DataFrame(Data1)\n",
    "print(df)"
   ]
  },
  {
   "cell_type": "code",
   "execution_count": 43,
   "id": "82a54fbe-b07c-4398-aca4-801a789550ab",
   "metadata": {},
   "outputs": [
    {
     "name": "stdout",
     "output_type": "stream",
     "text": [
      "Name     RajThakur\n",
      "Hobby    Paintings\n",
      "Name: 0, dtype: object\n"
     ]
    }
   ],
   "source": [
    "print(df.loc[0])"
   ]
  },
  {
   "cell_type": "code",
   "execution_count": 44,
   "id": "70ea9b73-a87a-4385-89d5-de4bd556ed5d",
   "metadata": {},
   "outputs": [
    {
     "name": "stdout",
     "output_type": "stream",
     "text": [
      "        Name         Hobby\n",
      "0  RajThakur     Paintings\n",
      "1    Rajveer  readingBooks\n"
     ]
    }
   ],
   "source": [
    "print(df.loc[[0, 1]])"
   ]
  },
  {
   "cell_type": "code",
   "execution_count": 45,
   "id": "c674894a-c0e9-4ca3-a93e-f877fdd056f4",
   "metadata": {},
   "outputs": [
    {
     "name": "stdout",
     "output_type": "stream",
     "text": [
      "      calories  duration\n",
      "day1       420        50\n",
      "day2       380        40\n",
      "day3       390        45\n"
     ]
    }
   ],
   "source": [
    "import pandas as pd\n",
    "\n",
    "data = {\n",
    "  \"calories\": [420, 380, 390],\n",
    "  \"duration\": [50, 40, 45]\n",
    "}\n",
    "\n",
    "df = pd.DataFrame(data, index = [\"day1\", \"day2\", \"day3\"])\n",
    "\n",
    "print(df) \n"
   ]
  },
  {
   "cell_type": "code",
   "execution_count": 46,
   "id": "3da19e85-1c36-4f1e-beb8-aa838e3da268",
   "metadata": {},
   "outputs": [
    {
     "name": "stdout",
     "output_type": "stream",
     "text": [
      "calories    380\n",
      "duration     40\n",
      "Name: day2, dtype: int64\n"
     ]
    }
   ],
   "source": [
    "print(df.loc[\"day2\"])"
   ]
  },
  {
   "cell_type": "code",
   "execution_count": 47,
   "id": "49b8293d-b4bd-4aa2-b0d6-5391144b02fd",
   "metadata": {},
   "outputs": [
    {
     "name": "stdout",
     "output_type": "stream",
     "text": [
      "   roll no.     name  marks\n",
      "0         1      raj     99\n",
      "1         2  rajveer     98\n",
      "2         3   ankush     90\n",
      "3         4    shyam     97\n",
      "4         5   somesh     95\n",
      "5         6   mohsin     94\n",
      "6         7     moiz     93\n",
      "7         8     Zayn     94\n",
      "8         9   zishan     91\n",
      "9        10       om     90\n"
     ]
    }
   ],
   "source": [
    "import pandas as pd\n",
    "\n",
    "df = pd.read_csv('data.csv')\n",
    "\n",
    "print(df)"
   ]
  },
  {
   "cell_type": "code",
   "execution_count": 49,
   "id": "a8f174ef-6151-4a33-92d0-cf29150df108",
   "metadata": {},
   "outputs": [
    {
     "name": "stdout",
     "output_type": "stream",
     "text": [
      "['apple', 'banana', 'cherry']\n"
     ]
    }
   ],
   "source": [
    "# Lists\n",
    "\n",
    "mylist = [\"apple\", \"banana\", \"cherry\"]\n",
    "print(mylist)"
   ]
  },
  {
   "cell_type": "code",
   "execution_count": 50,
   "id": "21a07e0e-0977-4a4f-abc6-4ccb6fd7529a",
   "metadata": {},
   "outputs": [
    {
     "name": "stdout",
     "output_type": "stream",
     "text": [
      "3\n"
     ]
    }
   ],
   "source": [
    "print(len(mylist))"
   ]
  },
  {
   "cell_type": "code",
   "execution_count": 53,
   "id": "5eef4ac7-c726-4602-aa13-781c8922b2a5",
   "metadata": {},
   "outputs": [
    {
     "name": "stdout",
     "output_type": "stream",
     "text": [
      "['apple', 'banana', 'cherry']\n",
      "[1, 5, 7, 9, 3]\n",
      "[True, False, False]\n",
      "[20.0, 21.0, 35.0, 95.0]\n",
      "['Raj Thakur', 1, 200, True, 21.0]\n"
     ]
    }
   ],
   "source": [
    "L1 = [\"apple\", \"banana\", \"cherry\"]\n",
    "L2 = [1, 5, 7, 9, 3]\n",
    "L3 = [True, False, False]\n",
    "L4 = [20.00,21.00,35.00,95.00]\n",
    "L5 = [\"Raj Thakur\",1,200,True,21.00]\n",
    "print(L1)\n",
    "print(L2)\n",
    "print(L3)\n",
    "print(L4)\n",
    "print(L5)"
   ]
  },
  {
   "cell_type": "code",
   "execution_count": 54,
   "id": "be7d1ecc-98fb-43b2-8f2a-05968341a99b",
   "metadata": {},
   "outputs": [
    {
     "name": "stdout",
     "output_type": "stream",
     "text": [
      "<class 'list'>\n"
     ]
    }
   ],
   "source": [
    "print(type(L1))"
   ]
  },
  {
   "cell_type": "code",
   "execution_count": 55,
   "id": "b68661e1-7f45-41d1-826c-52b59cde5089",
   "metadata": {},
   "outputs": [
    {
     "name": "stdout",
     "output_type": "stream",
     "text": [
      "<class 'list'>\n"
     ]
    }
   ],
   "source": [
    "print(type(L5))"
   ]
  },
  {
   "cell_type": "code",
   "execution_count": 56,
   "id": "35e00be1-2b5c-4284-bc5b-094d52148878",
   "metadata": {},
   "outputs": [
    {
     "name": "stdout",
     "output_type": "stream",
     "text": [
      "<class 'list'>\n"
     ]
    }
   ],
   "source": [
    "print(type(L3))"
   ]
  },
  {
   "cell_type": "code",
   "execution_count": 57,
   "id": "51c6e4ad-744f-44f3-a0f8-3bce32de8ffd",
   "metadata": {},
   "outputs": [
    {
     "name": "stdout",
     "output_type": "stream",
     "text": [
      "['Raj', 'Singh', 'Thakur']\n"
     ]
    }
   ],
   "source": [
    "List_1 = list((\"Raj\", \"Singh\", \"Thakur\"))\n",
    "print(List_1)"
   ]
  },
  {
   "cell_type": "code",
   "execution_count": 58,
   "id": "adef0602-0db5-40f5-aa58-b1f5a859e79a",
   "metadata": {},
   "outputs": [
    {
     "name": "stdout",
     "output_type": "stream",
     "text": [
      "Singh\n"
     ]
    }
   ],
   "source": [
    "print(List_1[1])"
   ]
  },
  {
   "cell_type": "code",
   "execution_count": 59,
   "id": "c67009fb-71e7-4734-874f-42ae51bfc799",
   "metadata": {},
   "outputs": [
    {
     "name": "stdout",
     "output_type": "stream",
     "text": [
      "Raj\n",
      "Thakur\n"
     ]
    }
   ],
   "source": [
    "print(List_1[0])\n",
    "print(List_1[-1])"
   ]
  },
  {
   "cell_type": "code",
   "execution_count": 60,
   "id": "bb791bb4-64fe-4a09-a567-0dd258b3e60b",
   "metadata": {},
   "outputs": [
    {
     "name": "stdout",
     "output_type": "stream",
     "text": [
      "['Raj']\n"
     ]
    }
   ],
   "source": [
    "print(List_1[:1])"
   ]
  },
  {
   "cell_type": "code",
   "execution_count": 64,
   "id": "21b3210d-c637-4e9d-bfb2-7d9ca3ac3da1",
   "metadata": {},
   "outputs": [
    {
     "name": "stdout",
     "output_type": "stream",
     "text": [
      "['Raj', 'Singh', 'Thakur']\n"
     ]
    }
   ],
   "source": [
    "print(List_1[0:3])"
   ]
  },
  {
   "cell_type": "code",
   "execution_count": 65,
   "id": "6433c488-49cf-44cd-8a65-902fa33c43ef",
   "metadata": {},
   "outputs": [
    {
     "name": "stdout",
     "output_type": "stream",
     "text": [
      "10\n",
      "20\n",
      "30\n",
      "40\n",
      "50\n",
      "60\n",
      "70\n",
      "80\n"
     ]
    }
   ],
   "source": [
    "List_L1 = [10,20,30,40,50,60,70,80]\n",
    "for x in List_L1:\n",
    "  print(x)"
   ]
  },
  {
   "cell_type": "code",
   "execution_count": 66,
   "id": "c6e374ff-ed20-4afd-820d-de3fcbe93f26",
   "metadata": {},
   "outputs": [
    {
     "name": "stdout",
     "output_type": "stream",
     "text": [
      "apple\n",
      "banana\n",
      "cherry\n"
     ]
    }
   ],
   "source": [
    "thislist = [\"apple\", \"banana\", \"cherry\"]\n",
    "i = 0\n",
    "while i < len(thislist):\n",
    "  print(thislist[i])\n",
    "  i = i + 1"
   ]
  },
  {
   "cell_type": "code",
   "execution_count": 68,
   "id": "498f63c3-33fd-4ae2-a5d9-e7f4f28c473a",
   "metadata": {},
   "outputs": [
    {
     "name": "stdout",
     "output_type": "stream",
     "text": [
      "apple\n",
      "banana\n",
      "cherry\n"
     ]
    },
    {
     "data": {
      "text/plain": [
       "[None, None, None]"
      ]
     },
     "execution_count": 68,
     "metadata": {},
     "output_type": "execute_result"
    }
   ],
   "source": [
    "thislist = [\"apple\", \"banana\", \"cherry\"]\n",
    "[print(x) for x in thislist]"
   ]
  },
  {
   "cell_type": "code",
   "execution_count": 69,
   "id": "ba86ff9a-23e4-4f24-8ed6-001e7e049e09",
   "metadata": {},
   "outputs": [
    {
     "name": "stdout",
     "output_type": "stream",
     "text": [
      "['apple', 'banana', 'mango']\n"
     ]
    }
   ],
   "source": [
    "fruits = [\"apple\", \"banana\", \"cherry\", \"kiwi\", \"mango\"]\n",
    "newlist = []\n",
    "\n",
    "for x in fruits:\n",
    "  if \"a\" in x:\n",
    "    newlist.append(x)\n",
    "\n",
    "print(newlist)"
   ]
  },
  {
   "cell_type": "code",
   "execution_count": 70,
   "id": "f421e4ce-a97f-4bb5-bf02-4c41fa5db117",
   "metadata": {},
   "outputs": [
    {
     "name": "stdout",
     "output_type": "stream",
     "text": [
      "['apple', 'banana', 'mango']\n"
     ]
    }
   ],
   "source": [
    "fruits = [\"apple\", \"banana\", \"cherry\", \"kiwi\", \"mango\"]\n",
    "\n",
    "newlist = [x for x in fruits if \"a\" in x]\n",
    "\n",
    "print(newlist)"
   ]
  },
  {
   "cell_type": "code",
   "execution_count": 71,
   "id": "26e77c95-71f8-4738-a16b-fba6c8e0fccb",
   "metadata": {},
   "outputs": [
    {
     "name": "stdout",
     "output_type": "stream",
     "text": [
      "['banana', 'kiwi', 'mango', 'orange', 'pineapple']\n"
     ]
    }
   ],
   "source": [
    "thislist = [\"orange\", \"mango\", \"kiwi\", \"pineapple\", \"banana\"]\n",
    "thislist.sort()\n",
    "print(thislist)"
   ]
  },
  {
   "cell_type": "code",
   "execution_count": 72,
   "id": "948bfe7e-d093-42a6-9ce0-2397e567cdc9",
   "metadata": {},
   "outputs": [
    {
     "name": "stdout",
     "output_type": "stream",
     "text": [
      "[23, 50, 65, 82, 100]\n"
     ]
    }
   ],
   "source": [
    "List1 = [100, 50, 65, 82, 23]\n",
    "List1.sort()\n",
    "print(List1)"
   ]
  },
  {
   "cell_type": "code",
   "execution_count": 73,
   "id": "e97427f5-7343-49f9-98dc-1f84ac02f9e8",
   "metadata": {},
   "outputs": [
    {
     "name": "stdout",
     "output_type": "stream",
     "text": [
      "['apple', 'banana', 'cherry']\n"
     ]
    }
   ],
   "source": [
    "thislist = [\"apple\", \"banana\", \"cherry\"]\n",
    "mylist = thislist.copy()\n",
    "print(mylist)"
   ]
  },
  {
   "cell_type": "code",
   "execution_count": 74,
   "id": "2ce8a634-b6f1-4ddf-b56c-d8f93049c5fc",
   "metadata": {},
   "outputs": [
    {
     "name": "stdout",
     "output_type": "stream",
     "text": [
      "['apple', 'banana', 'cherry']\n"
     ]
    }
   ],
   "source": [
    "thislist = [\"apple\", \"banana\", \"cherry\"]\n",
    "mylist = thislist[:]\n",
    "print(mylist)"
   ]
  },
  {
   "cell_type": "code",
   "execution_count": 75,
   "id": "af82d5de-1557-490e-975a-61171b93acf4",
   "metadata": {},
   "outputs": [
    {
     "name": "stdout",
     "output_type": "stream",
     "text": [
      "['a', 'b', 'c', 1, 2, 3]\n"
     ]
    }
   ],
   "source": [
    "list1 = [\"a\", \"b\", \"c\"]\n",
    "list2 = [1, 2, 3]\n",
    "\n",
    "list3 = list1 + list2\n",
    "print(list3)"
   ]
  },
  {
   "cell_type": "code",
   "execution_count": 76,
   "id": "02b9ccd9-dec2-45ca-9276-2adf082d1bbf",
   "metadata": {},
   "outputs": [
    {
     "name": "stdout",
     "output_type": "stream",
     "text": [
      "['a', 'b', 'c', 1, 2, 3]\n"
     ]
    }
   ],
   "source": [
    "list1 = [\"a\", \"b\" , \"c\"]\n",
    "list2 = [1, 2, 3]\n",
    "\n",
    "for x in list2:\n",
    "  list1.append(x)\n",
    "\n",
    "print(list1)"
   ]
  },
  {
   "cell_type": "code",
   "execution_count": 77,
   "id": "af2138a1-2ef1-4282-be9d-12219dcb83df",
   "metadata": {},
   "outputs": [
    {
     "name": "stdout",
     "output_type": "stream",
     "text": [
      "['a', 'b', 'c', 1, 2, 3]\n"
     ]
    }
   ],
   "source": [
    "list1 = [\"a\", \"b\" , \"c\"]\n",
    "list2 = [1, 2, 3]\n",
    "\n",
    "list1.extend(list2)\n",
    "print(list1)"
   ]
  },
  {
   "cell_type": "code",
   "execution_count": 80,
   "id": "c3f52e94-7b9a-4d03-a986-bff29e25a668",
   "metadata": {},
   "outputs": [
    {
     "name": "stdout",
     "output_type": "stream",
     "text": [
      "Ford\n"
     ]
    }
   ],
   "source": [
    "# Arrays\n",
    "\n",
    "cars = [\"Ford\", \"Volvo\", \"BMW\"]\n",
    "x = cars[0]\n",
    "print(x)"
   ]
  },
  {
   "cell_type": "code",
   "execution_count": 81,
   "id": "a459d29d-5a46-4d1f-bfeb-be6805a0a480",
   "metadata": {},
   "outputs": [
    {
     "name": "stdout",
     "output_type": "stream",
     "text": [
      "['Toyota', 'Volvo', 'BMW']\n"
     ]
    }
   ],
   "source": [
    "cars[0] = \"Toyota\"\n",
    "print(cars)"
   ]
  },
  {
   "cell_type": "code",
   "execution_count": 82,
   "id": "d63da870-2409-43c6-b725-e05c4ed9135b",
   "metadata": {},
   "outputs": [
    {
     "name": "stdout",
     "output_type": "stream",
     "text": [
      "3\n"
     ]
    }
   ],
   "source": [
    "cars = [\"Ford\", \"Volvo\", \"BMW\"]\n",
    "x = len(cars)\n",
    "print(x)"
   ]
  },
  {
   "cell_type": "code",
   "execution_count": 83,
   "id": "6f0e13f5-0916-4834-9762-3fd11b4e08bf",
   "metadata": {},
   "outputs": [
    {
     "name": "stdout",
     "output_type": "stream",
     "text": [
      "Ford\n",
      "Volvo\n",
      "BMW\n"
     ]
    }
   ],
   "source": [
    "cars = [\"Ford\", \"Volvo\", \"BMW\"]\n",
    "\n",
    "for x in cars:\n",
    "  print(x)"
   ]
  },
  {
   "cell_type": "code",
   "execution_count": 84,
   "id": "bcf0e05d-f12f-4cbc-a6b6-5e7294fa9be8",
   "metadata": {},
   "outputs": [
    {
     "name": "stdout",
     "output_type": "stream",
     "text": [
      "['Ford', 'Volvo', 'BMW', 'Honda']\n"
     ]
    }
   ],
   "source": [
    "cars = [\"Ford\", \"Volvo\", \"BMW\"]\n",
    "cars.append(\"Honda\")\n",
    "print(cars)"
   ]
  },
  {
   "cell_type": "code",
   "execution_count": 87,
   "id": "f21810fb-7b0c-400f-a9ea-5377852b00a2",
   "metadata": {},
   "outputs": [
    {
     "name": "stdout",
     "output_type": "stream",
     "text": [
      "['Ford', 'Honda']\n"
     ]
    }
   ],
   "source": [
    "cars.pop(1)\n",
    "print(cars)"
   ]
  },
  {
   "cell_type": "code",
   "execution_count": null,
   "id": "c8f9c39e-405a-4dcc-97fa-f90d9bb6a2c4",
   "metadata": {},
   "outputs": [],
   "source": []
  }
 ],
 "metadata": {
  "kernelspec": {
   "display_name": "Python [conda env:base]",
   "language": "python",
   "name": "base"
  },
  "language_info": {
   "codemirror_mode": {
    "name": "ipython",
    "version": 3
   },
   "file_extension": ".py",
   "mimetype": "text/x-python",
   "name": "python",
   "nbconvert_exporter": "python",
   "pygments_lexer": "ipython3",
   "version": "3.11.5"
  }
 },
 "nbformat": 4,
 "nbformat_minor": 5
}
